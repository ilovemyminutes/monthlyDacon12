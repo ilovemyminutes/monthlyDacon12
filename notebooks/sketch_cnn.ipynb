{
 "metadata": {
  "language_info": {
   "codemirror_mode": {
    "name": "ipython",
    "version": 3
   },
   "file_extension": ".py",
   "mimetype": "text/x-python",
   "name": "python",
   "nbconvert_exporter": "python",
   "pygments_lexer": "ipython3",
   "version": "3.6.9-final"
  },
  "orig_nbformat": 2,
  "kernelspec": {
   "name": "python3",
   "display_name": "Python 3",
   "language": "python"
  }
 },
 "nbformat": 4,
 "nbformat_minor": 2,
 "cells": [
  {
   "cell_type": "code",
   "execution_count": 2,
   "metadata": {},
   "outputs": [],
   "source": [
    "import os\n",
    "from glob import glob\n",
    "import sys\n",
    "sys.path.insert(0, '../core')\n",
    "\n",
    "import numpy as np\n",
    "import pandas as pd\n",
    "from skimage import io\n",
    "\n",
    "import torch\n",
    "from torch import nn, optim\n",
    "from torch.nn import functional as F\n",
    "from torch.utils.data import DataLoader\n",
    "device = torch.device('cuda:0' if torch.cuda.is_available() else 'cpu')\n",
    "\n",
    "from load.load_data import dirtyMNISTDataset"
   ]
  },
  {
   "cell_type": "code",
   "execution_count": 1,
   "metadata": {},
   "outputs": [],
   "source": [
    "BATCH_SIZE = 8"
   ]
  },
  {
   "cell_type": "code",
   "execution_count": 3,
   "metadata": {},
   "outputs": [],
   "source": [
    "# get dataset\n",
    "dataset = dirtyMNISTDataset(mode='train')\n",
    "\n",
    "# make dataloader\n",
    "dataloader = DataLoader(dataset=dataset, batch_size=8)\n",
    "\n",
    "# sample\n",
    "sample = next(iter(dataloader))"
   ]
  },
  {
   "cell_type": "code",
   "execution_count": 36,
   "metadata": {},
   "outputs": [
    {
     "output_type": "execute_result",
     "data": {
      "text/plain": [
       "torch.Size([8, 256, 256])"
      ]
     },
     "metadata": {},
     "execution_count": 36
    }
   ],
   "source": [
    "sample['image'].size()"
   ]
  },
  {
   "cell_type": "code",
   "execution_count": null,
   "metadata": {},
   "outputs": [],
   "source": [
    "sample['image'].view(8, 1, 256, 256)"
   ]
  },
  {
   "source": [
    "class VanillaCNN(nn.Module):\n",
    "    def __init__(self, input_size=(1, 256, 256), kernel_size=3, channel_dims=[32, 64], hidden_dims=(256, 128), n_classes=26, batchnorm=False):\n",
    "        super(VanillaCNN, self).__init__()\n",
    "        self.input_size = input_size\n",
    "        self.kernel_size = kernel_size\n",
    "        self.channel_dims = channel_dims\n",
    "        self.hidden_dims = hidden_dims\n",
    "        self.n_classes = n_classes\n",
    "        self.batchnorm = batchnorm\n",
    "\n",
    "        self.layers = []\n",
    "        prev_channel_dim = self.input_size[0]\n",
    "        for channel_dim in self.channel_dims:\n",
    "            self.layers.append(\n",
    "                nn.Conv2d(\n",
    "                    in_channels=prev_channel_dim,\n",
    "                    out_channels=channel_dim,\n",
    "                    kernel_size=self.kernel_size,\n",
    "                    stride=1,\n",
    "                    padding=self.kernel_size // 2\n",
    "                    )\n",
    "                    )\n",
    "            if self.batchnorm:\n",
    "                self.layers.append(nn.BatchNorm2d(num_features=channel_dim))\n",
    "\n",
    "            self.layers.append(nn.ReLU(inplace=True))\n",
    "            self.layers.append(nn.MaxPool2d(kernel_size=2, stride=2))\n",
    "            self.layers.append(nn.Dropout2d(p=.5))\n",
    "            prev_channel_dim = channel_dim\n",
    "\n",
    "        self.layers.append(nn.Flatten())\n",
    "        prev_hidden_dim = prev_channel_dim * (self.input_size[1]) // (2**len(self.channel_dims)) * (self.input_size[2] // (2**len(self.channel_dims)))\n",
    "        for hidden_dim in self.hidden_dims:\n",
    "            self.layers.append(nn.Linear(in_features=prev_hidden_dim, out_features=hidden_dim, bias=True))\n",
    "            self.layers.append(nn.ReLU(inplace=True))\n",
    "            prev_hidden_dim = hidden_dim\n",
    "\n",
    "        self.layers.append(nn.Linear(in_features=prev_hidden_dim, out_features=self.n_classes, bias=True))\n",
    "\n",
    "        self.network = nn.Sequential()\n",
    "        for layer_idx, layer in enumerate(self.layers):\n",
    "            layer_name = f'{type(layer).__name__.lower()}_{layer_idx}'\n",
    "            self.network.add_module(name=layer_name, module=layer)\n",
    "        self.init_param()\n",
    "\n",
    "    def init_param(self):\n",
    "        for module in self.modules():\n",
    "            if isinstance(module, nn.Conv2d):\n",
    "                nn.init.kaiming_normal_(module.weight)\n",
    "                nn.init.zeros_(module.bias)\n",
    "            elif isinstance(module, nn.BatchNorm2d):\n",
    "                nn.init.constant_(module.weight, 1)\n",
    "                nn.init.constant_(module.bias, 0)\n",
    "            elif isinstance(module, nn.Linear):\n",
    "                nn.init.kaiming_normal_(module.weight)\n",
    "                nn.init.zeros_(module.bias)\n",
    "    \n",
    "    def forward(self, X):\n",
    "        return self.network.forward(X)"
   ],
   "cell_type": "code",
   "metadata": {},
   "execution_count": null,
   "outputs": []
  },
  {
   "cell_type": "code",
   "execution_count": null,
   "metadata": {},
   "outputs": [],
   "source": [
    "model = VanillaCNN(input_size=(1,256,256)).to(device)"
   ]
  },
  {
   "cell_type": "code",
   "execution_count": null,
   "metadata": {},
   "outputs": [],
   "source": [
    "model.forward(X=sample['image'].view(8, 1, 256, 256).float().to(device)).to(device)"
   ]
  },
  {
   "cell_type": "code",
   "execution_count": null,
   "metadata": {},
   "outputs": [],
   "source": [
    "dataset[0]"
   ]
  },
  {
   "cell_type": "code",
   "execution_count": null,
   "metadata": {},
   "outputs": [],
   "source": [
    "img_path = glob('../data/dirty_mnist/train/*')[0]"
   ]
  },
  {
   "cell_type": "code",
   "execution_count": null,
   "metadata": {},
   "outputs": [],
   "source": [
    "io.imread(img_path).shape"
   ]
  }
 ]
}