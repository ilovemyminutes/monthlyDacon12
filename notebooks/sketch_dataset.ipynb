{
 "metadata": {
  "language_info": {
   "codemirror_mode": {
    "name": "ipython",
    "version": 3
   },
   "file_extension": ".py",
   "mimetype": "text/x-python",
   "name": "python",
   "nbconvert_exporter": "python",
   "pygments_lexer": "ipython3",
   "version": "3.6.9-final"
  },
  "orig_nbformat": 2,
  "kernelspec": {
   "name": "python3",
   "display_name": "Python 3",
   "language": "python"
  }
 },
 "nbformat": 4,
 "nbformat_minor": 2,
 "cells": [
  {
   "cell_type": "code",
   "execution_count": null,
   "metadata": {},
   "outputs": [],
   "source": [
    "import os\n",
    "from glob import glob\n",
    "\n",
    "import torch\n",
    "from torch.utils.data import Dataset, DataLoader\n",
    "from torchvision import transforms, utils\n",
    "\n",
    "from skimage import io, transform\n",
    "\n",
    "import numpy as np\n",
    "import pandas as pd"
   ]
  },
  {
   "cell_type": "code",
   "execution_count": null,
   "metadata": {},
   "outputs": [],
   "source": [
    "glob('../data/dirty_mnist/train/*.csv')[0]"
   ]
  },
  {
   "cell_type": "code",
   "execution_count": null,
   "metadata": {},
   "outputs": [],
   "source": [
    "class TestDataset(Dataset):\n",
    "\n",
    "    DATA_PATH = '../data/dirty_mnist/'\n",
    "    \n",
    "    def __init__(self, mode: str, transform=None):\n",
    "        '''\n",
    "        Args\n",
    "        ---\n",
    "        mode: str, 데이터셋 종류를 설정. 'train', 'valid', 'test'\n",
    "        '''\n",
    "        if mode in ['train', 'valid']:\n",
    "            label_path = os.path.join(self.DATA_PATH, mode, mode+'_answer.csv')\n",
    "            self.labels = pd.read_csv(label_path)\n",
    "\n",
    "        self.mode = mode\n",
    "        self.img_path = os.path.join(self.DATA_PATH, mode)\n",
    "        self.transform = transform\n",
    "        return\n",
    "\n",
    "    def __len__(self):\n",
    "        return len(glob(os.path.join(self.img_path, '*.png')))\n",
    "\n",
    "    def __getitem__(self, idx):\n",
    "        if torch.is_tensor(idx): # [?]\n",
    "            idx = idx.tolist()\n",
    "        \n",
    "        filename = f'{self.labels.iloc[idx, 0]:0>5d}.png'\n",
    "        img = io.imread(os.path.join(self.img_path, filename))\n",
    "\n",
    "        label = np.array(self.labels.iloc[idx, 1:])\n",
    "        sample = {'image': img, 'label': label}\n",
    "\n",
    "        if self.transform:\n",
    "            sample = self.transform(sample)\n",
    "        return sample"
   ]
  },
  {
   "cell_type": "code",
   "execution_count": null,
   "metadata": {},
   "outputs": [],
   "source": [
    "dataset = TestDataset(mode='train')\n",
    "dataloader = DataLoader(dataset, batch_size=4, shuffle=True, num_workers=0)"
   ]
  }
 ]
}