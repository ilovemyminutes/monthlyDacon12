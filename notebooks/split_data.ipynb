{
 "metadata": {
  "language_info": {
   "codemirror_mode": {
    "name": "ipython",
    "version": 3
   },
   "file_extension": ".py",
   "mimetype": "text/x-python",
   "name": "python",
   "nbconvert_exporter": "python",
   "pygments_lexer": "ipython3",
   "version": "3.6.9-final"
  },
  "orig_nbformat": 2,
  "kernelspec": {
   "name": "python3",
   "display_name": "Python 3",
   "language": "python"
  }
 },
 "nbformat": 4,
 "nbformat_minor": 2,
 "cells": [
  {
   "cell_type": "code",
   "execution_count": null,
   "metadata": {},
   "outputs": [],
   "source": [
    "import os\n",
    "from glob import glob\n",
    "import shutil\n",
    "\n",
    "import pandas as pd\n",
    "\n",
    "import matplotlib.pyplot as plt\n",
    "import seaborn as sns\n",
    "import missingno as msno\n",
    "plt.style.use('ggplot')\n",
    "%config InlineBackend.figure_format = 'retina'"
   ]
  },
  {
   "cell_type": "code",
   "execution_count": null,
   "metadata": {},
   "outputs": [],
   "source": [
    "dirty_mnist_y = pd.read_csv('../data/dirty_mnist/dirty_mnist_2nd_answer.csv')"
   ]
  },
  {
   "cell_type": "code",
   "execution_count": null,
   "metadata": {},
   "outputs": [],
   "source": [
    "label_dist = dirty_mnist_y.drop('index', axis=1).sum(axis=0)\n",
    "label_dist = label_dist.to_frame('freq').reset_index()\n"
   ]
  },
  {
   "cell_type": "code",
   "execution_count": null,
   "metadata": {},
   "outputs": [],
   "source": [
    "plt.figure(figsize=(6, 3))\n",
    "sns.barplot(x='index', y='freq', data=label_dist)\n",
    "plt.title('Frequency for each alphabet')\n",
    "plt.ylabel('Frequency')\n",
    "plt.xlabel('Alphabet')\n",
    "plt.tight_layout()\n",
    "plt.savefig('../plots/frequency_for_each_alphabet.png', dpi=200)\n",
    "plt.show()"
   ]
  },
  {
   "cell_type": "code",
   "execution_count": null,
   "metadata": {},
   "outputs": [],
   "source": [
    "from sklearn.model_selection import train_test_split\n",
    "\n",
    "# split train + valid and test}\n",
    "train, valid = train_test_split(dirty_mnist_y, test_size=.15, random_state=42, shuffle=True)\n",
    "train.shape, valid.shape\n",
    "\n",
    "train.to_csv(os.path.join('../data/dirty_mnist/train', 'train_answer.csv'), index=False)\n",
    "valid.to_csv(os.path.join('../data/dirty_mnist/valid', 'valid_answer.csv'), index=False)\n",
    "\n",
    "train_index = train['index'].tolist()\n",
    "valid_index  = valid['index'].tolist()"
   ]
  },
  {
   "cell_type": "code",
   "execution_count": null,
   "metadata": {},
   "outputs": [],
   "source": [
    "PATH = {'train':'../data/dirty_mnist/train', 'valid':'../data/dirty_mnist/valid', 'raw':'../data/dirty_mnist/train_raw/*.png'}\n",
    "train_raw_img_paths = glob('../data/dirty_mnist/train_raw/*.png')\n",
    "\n",
    "for idx, path in enumerate(train_raw_img_paths):\n",
    "    filename = path.split('/')[-1]\n",
    "    img_index = int(filename.split('.')[0])\n",
    "    \n",
    "    if img_index in train_index:\n",
    "        shutil.move(path, os.path.join(PATH['train'], filename))\n",
    "\n",
    "    elif img_index in valid_index:\n",
    "        shutil.move(path, os.path.join(PATH['valid'], filename))\n",
    "    \n",
    "    else:\n",
    "        print(f\"File didtn't matched: {path}\")\n",
    "\n",
    "    if idx % 1000 == 0:\n",
    "        print(f'{idx + 1} files checked.')"
   ]
  }
 ]
}